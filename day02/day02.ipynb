{
 "cells": [
  {
   "cell_type": "code",
   "execution_count": 1,
   "metadata": {},
   "outputs": [],
   "source": [
    "import re\n",
    "\n",
    "with open(\"input.txt\") as f:\n",
    "    lines = [l.strip() for l in f.readlines()]"
   ]
  },
  {
   "cell_type": "markdown",
   "metadata": {},
   "source": [
    "# part 1"
   ]
  },
  {
   "cell_type": "code",
   "execution_count": 2,
   "metadata": {},
   "outputs": [
    {
     "name": "stdout",
     "output_type": "stream",
     "text": [
      "part 1:  2101\n"
     ]
    }
   ],
   "source": [
    "MAX_RED = 12\n",
    "MAX_GREEN = 13\n",
    "MAX_BLUE = 14\n",
    "\n",
    "\n",
    "def get_num_color(line: str, color: str) -> int:\n",
    "    matches = re.findall(r\"\\d+ \" + color, line)\n",
    "    return sum(int(match.split()[0]) for match in matches)\n",
    "\n",
    "\n",
    "def set_is_possible(cube_set: str) -> bool:\n",
    "    return all(\n",
    "        (\n",
    "            get_num_color(cube_set, \"red\") <= MAX_RED,\n",
    "            get_num_color(cube_set, \"green\") <= MAX_GREEN,\n",
    "            get_num_color(cube_set, \"blue\") <= MAX_BLUE,\n",
    "        )\n",
    "    )\n",
    "\n",
    "\n",
    "def game_is_possible(line: str) -> bool:\n",
    "    return all(set_is_possible(cube_set) for cube_set in line.split(\";\"))\n",
    "\n",
    "\n",
    "possible_games = [\n",
    "    num+1\n",
    "    for num, line in enumerate(lines)\n",
    "    if game_is_possible(line)\n",
    "]\n",
    "print(\"part 1: \", sum(possible_games))"
   ]
  },
  {
   "cell_type": "markdown",
   "metadata": {},
   "source": [
    "# part 2"
   ]
  },
  {
   "cell_type": "code",
   "execution_count": 3,
   "metadata": {},
   "outputs": [
    {
     "name": "stdout",
     "output_type": "stream",
     "text": [
      "part 2:  58269\n"
     ]
    }
   ],
   "source": [
    "def num_needed(line: str, color: str) -> int:\n",
    "    return max(get_num_color(cube_set, color) for cube_set in line.split(\";\"))\n",
    "\n",
    "def get_power(line: str) -> int:\n",
    "    return num_needed(line, \"green\") * num_needed(line, \"red\") * num_needed(line, \"blue\")\n",
    "\n",
    "print(\"part 2: \", sum(get_power(line) for line in lines))"
   ]
  }
 ],
 "metadata": {
  "kernelspec": {
   "display_name": "Python 3.8",
   "language": "python",
   "name": "python38"
  },
  "language_info": {
   "codemirror_mode": {
    "name": "ipython",
    "version": 3
   },
   "file_extension": ".py",
   "mimetype": "text/x-python",
   "name": "python",
   "nbconvert_exporter": "python",
   "pygments_lexer": "ipython3",
   "version": "3.8.5"
  }
 },
 "nbformat": 4,
 "nbformat_minor": 4
}
