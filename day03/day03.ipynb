{
 "cells": [
  {
   "cell_type": "code",
   "execution_count": 1,
   "metadata": {},
   "outputs": [],
   "source": [
    "import re\n",
    "\n",
    "with open(\"input.txt\") as f:\n",
    "    lines = [l.strip() for l in f.readlines()]"
   ]
  },
  {
   "cell_type": "markdown",
   "metadata": {},
   "source": [
    "# part1"
   ]
  },
  {
   "cell_type": "code",
   "execution_count": 2,
   "metadata": {},
   "outputs": [
    {
     "name": "stdout",
     "output_type": "stream",
     "text": [
      "part 1: 535351\n"
     ]
    }
   ],
   "source": [
    "def is_part_number(lines, line_num: int, start: int, end: int) -> bool:\n",
    "    positions = [\n",
    "        (line_num-1, x) for x in range(start-1, end+1)\n",
    "    ] + [\n",
    "        (line_num, x) for x in range(start-1, end+1)\n",
    "    ] + [\n",
    "        (line_num+1, x) for x in range(start-1, end+1)\n",
    "    ]\n",
    "\n",
    "    for pos in positions:\n",
    "        try:\n",
    "            c = lines[pos[0]][pos[1]]\n",
    "        except IndexError:\n",
    "            pass\n",
    "\n",
    "        if not (c.isdigit() or c == \".\"):\n",
    "            return True\n",
    "    \n",
    "    return False\n",
    "\n",
    "\n",
    "part_numbers = [\n",
    "    int(m.group(0))\n",
    "    for num, line in enumerate(lines)\n",
    "    for m in re.finditer(r\"\\d+\", line)\n",
    "    if is_part_number(lines, num, m.start(0), m.end(0))\n",
    "]\n",
    "\n",
    "print(\"part 1:\", sum(part_numbers))"
   ]
  },
  {
   "cell_type": "markdown",
   "metadata": {},
   "source": [
    "# part 2"
   ]
  },
  {
   "cell_type": "code",
   "execution_count": 3,
   "metadata": {},
   "outputs": [
    {
     "name": "stdout",
     "output_type": "stream",
     "text": [
      "part 2: 87287096\n"
     ]
    }
   ],
   "source": [
    "def get_adjacent_gears(lines, line_num: int, start: int, end: int) -> bool:\n",
    "    positions = [\n",
    "        (line_num-1, x) for x in range(start-1, end+1)\n",
    "    ] + [\n",
    "        (line_num, x) for x in range(start-1, end+1)\n",
    "    ] + [\n",
    "        (line_num+1, x) for x in range(start-1, end+1)\n",
    "    ]\n",
    "\n",
    "    gears = []\n",
    "    for pos in positions:\n",
    "        try:\n",
    "            c = lines[pos[0]][pos[1]]\n",
    "        except IndexError:\n",
    "            pass\n",
    "\n",
    "        if c == \"*\":\n",
    "            gears += [pos]\n",
    "\n",
    "    return gears\n",
    "\n",
    "\n",
    "gear_pos_to_adjacents = {}\n",
    "for num, line in enumerate(lines):\n",
    "    for m in re.finditer(r\"\\d+\", line):\n",
    "        gears = get_adjacent_gears(lines, num, m.start(0), m.end(0))\n",
    "        for gear in gears:\n",
    "            if gear not in gear_pos_to_adjacents:\n",
    "                gear_pos_to_adjacents[gear] = []\n",
    "\n",
    "            gear_pos_to_adjacents[gear] += [int(m.group(0))]\n",
    "\n",
    "\n",
    "total = 0\n",
    "for v in gear_pos_to_adjacents.values():\n",
    "    if len(v) == 2:\n",
    "        total += v[0] * v[1]\n",
    "\n",
    "print(\"part 2:\", total)"
   ]
  }
 ],
 "metadata": {
  "kernelspec": {
   "display_name": "Python 3.8",
   "language": "python",
   "name": "python38"
  },
  "language_info": {
   "codemirror_mode": {
    "name": "ipython",
    "version": 3
   },
   "file_extension": ".py",
   "mimetype": "text/x-python",
   "name": "python",
   "nbconvert_exporter": "python",
   "pygments_lexer": "ipython3",
   "version": "3.8.5"
  }
 },
 "nbformat": 4,
 "nbformat_minor": 5
}
