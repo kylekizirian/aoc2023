{
 "cells": [
  {
   "cell_type": "code",
   "execution_count": 1,
   "metadata": {},
   "outputs": [],
   "source": [
    "with open(\"input.txt\") as f:\n",
    "    lines = [l.strip() for l in f.readlines() if l.strip()]"
   ]
  },
  {
   "cell_type": "markdown",
   "metadata": {},
   "source": [
    "# part1"
   ]
  },
  {
   "cell_type": "code",
   "execution_count": 2,
   "metadata": {},
   "outputs": [
    {
     "name": "stdout",
     "output_type": "stream",
     "text": [
      "part1:  3316275\n"
     ]
    }
   ],
   "source": [
    "times = [int(time) for time in lines[0].split()[1:]]\n",
    "distances = [int(d) for d in lines[1].split()[1:]]\n",
    "\n",
    "ways = 1\n",
    "for i, time in enumerate(times):\n",
    "    distance = distances[i]\n",
    "    for t in range(time):\n",
    "        if t * (time - t) > distance:\n",
    "            num_ways = 1 + time-(2 * t)\n",
    "            ways *= num_ways\n",
    "            break\n",
    "\n",
    "print(\"part1: \", ways)"
   ]
  },
  {
   "cell_type": "markdown",
   "metadata": {},
   "source": [
    "# part2"
   ]
  },
  {
   "cell_type": "code",
   "execution_count": 3,
   "metadata": {},
   "outputs": [
    {
     "name": "stdout",
     "output_type": "stream",
     "text": [
      "part2:  27102791\n"
     ]
    }
   ],
   "source": [
    "time = int(''.join(t for t in lines[0].split()[1:]))\n",
    "distance = int(''.join(d for d in lines[1].split()[1:]))\n",
    "\n",
    "ways = 1\n",
    "for t in range(time):\n",
    "    if t * (time - t) > distance:\n",
    "        num_ways = 1 + time-(2 * t)\n",
    "        ways *= num_ways\n",
    "        break\n",
    "\n",
    "\n",
    "print(\"part2: \", ways)"
   ]
  }
 ],
 "metadata": {
  "kernelspec": {
   "display_name": "Python 3.8",
   "language": "python",
   "name": "python38"
  },
  "language_info": {
   "codemirror_mode": {
    "name": "ipython",
    "version": 3
   },
   "file_extension": ".py",
   "mimetype": "text/x-python",
   "name": "python",
   "nbconvert_exporter": "python",
   "pygments_lexer": "ipython3",
   "version": "3.8.5"
  }
 },
 "nbformat": 4,
 "nbformat_minor": 4
}
