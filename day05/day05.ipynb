{
 "cells": [
  {
   "cell_type": "code",
   "execution_count": 1,
   "metadata": {},
   "outputs": [],
   "source": [
    "with open(\"input.txt\") as f:\n",
    "    lines = [l.strip() for l in f.readlines() if l.strip()]"
   ]
  },
  {
   "cell_type": "markdown",
   "metadata": {},
   "source": [
    "# part 1"
   ]
  },
  {
   "cell_type": "code",
   "execution_count": 2,
   "metadata": {},
   "outputs": [
    {
     "name": "stdout",
     "output_type": "stream",
     "text": [
      "part 1: 910845529\n"
     ]
    }
   ],
   "source": [
    "seeds = [int(seed) for seed in lines[0].split(\":\")[1].split()]\n",
    "\n",
    "def map_key_and_val(line):\n",
    "    map_name = line.split()[0]\n",
    "    k = map_name.split(\"-to-\")[0]\n",
    "    v = map_name.split(\"-to-\")[1]\n",
    "    return k, v\n",
    "\n",
    "maps = {}\n",
    "\n",
    "for line in lines[1:]:\n",
    "    if \"map\" in line:\n",
    "        cur_key, cur_val = map_key_and_val(line)\n",
    "        maps[cur_key] = {cur_val: []}\n",
    "        continue\n",
    "\n",
    "    dest_start, source_start, range_len = [int(val) for val in line.split()]\n",
    "    maps[cur_key][cur_val] += [\n",
    "        {\n",
    "            \"dest_start\": dest_start,\n",
    "            \"source_start\": source_start,\n",
    "            \"range_len\": range_len,\n",
    "        }\n",
    "    ]\n",
    "\n",
    "\n",
    "lowest_loc = float(\"inf\")\n",
    "map_lines = [map_key_and_val(line) for line in lines if \"map\" in line]\n",
    "for seed in seeds:\n",
    "    val = seed\n",
    "    for k, v in map_lines:\n",
    "        for m in maps[k][v]:\n",
    "            if val >= m[\"source_start\"] and val < m[\"source_start\"]+m[\"range_len\"]:\n",
    "                val = m[\"dest_start\"] + val - m[\"source_start\"]\n",
    "                break\n",
    "\n",
    "    lowest_loc = min(lowest_loc, val)\n",
    "\n",
    "print(\"part 1:\", lowest_loc)"
   ]
  },
  {
   "cell_type": "markdown",
   "metadata": {},
   "source": [
    "# part 2"
   ]
  },
  {
   "cell_type": "code",
   "execution_count": 3,
   "metadata": {},
   "outputs": [
    {
     "name": "stdout",
     "output_type": "stream",
     "text": [
      "part 2: 77435348\n"
     ]
    }
   ],
   "source": [
    "from bisect import bisect_left\n",
    "import math\n",
    "\n",
    "\n",
    "line1_vals = [int(v) for v in lines[0].split(\":\")[1].split()]\n",
    "seeds = []\n",
    "for i in range(0, len(line1_vals), 2):\n",
    "    seed, r = line1_vals[i], line1_vals[i+1]\n",
    "    seeds += [(seed, r)]\n",
    "\n",
    "\n",
    "def map_key_and_val(line):\n",
    "    map_name = line.split()[0]\n",
    "    k = map_name.split(\"-to-\")[0]\n",
    "    v = map_name.split(\"-to-\")[1]\n",
    "    return k, v\n",
    "\n",
    "maps = {}\n",
    "\n",
    "for line in lines[1:]:\n",
    "    if \"map\" in line:\n",
    "        cur_key, cur_val = map_key_and_val(line)\n",
    "        maps[cur_key] = {cur_val: [], \"ranges\": []}\n",
    "        continue\n",
    "\n",
    "    dest_start, source_start, range_len = [int(val) for val in line.split()]\n",
    "    maps[cur_key][cur_val] += [\n",
    "        {\n",
    "            \"dest_start\": dest_start,\n",
    "            \"source_start\": source_start,\n",
    "            \"range_len\": range_len,\n",
    "        }\n",
    "    ]\n",
    "    maps[cur_key][\"ranges\"] += [source_start, source_start+range_len]\n",
    "\n",
    "\n",
    "for k in maps.keys():\n",
    "    maps[k][\"ranges\"] = sorted(maps[k][\"ranges\"])\n",
    "\n",
    "\n",
    "def num_can_advance(ranges, val) -> int:\n",
    "    l = bisect_left(ranges, val)\n",
    "    if l >= len(ranges):\n",
    "        return float(\"inf\")\n",
    "\n",
    "    return ranges[l] - val\n",
    "\n",
    "\n",
    "lowest_loc = float(\"inf\")\n",
    "map_lines = [map_key_and_val(line) for line in lines if \"map\" in line]\n",
    "for s, r in seeds:\n",
    "    seed = s\n",
    "    while seed < s+r:\n",
    "        skip = float(\"inf\")\n",
    "        val = seed\n",
    "        for k, v in map_lines:\n",
    "            skip = min(skip, num_can_advance(maps[k][\"ranges\"], val))\n",
    "            for m in maps[k][v]:\n",
    "                if val >= m[\"source_start\"] and val < m[\"source_start\"]+m[\"range_len\"]:\n",
    "                    val = m[\"dest_start\"] + val - m[\"source_start\"]\n",
    "                    break\n",
    "\n",
    "        lowest_loc = min(lowest_loc, val)\n",
    "        if math.isinf(skip):\n",
    "            break\n",
    "        elif skip == 0:\n",
    "            skip = 1\n",
    "\n",
    "        seed += skip\n",
    "\n",
    "\n",
    "print(\"part 2:\", lowest_loc)"
   ]
  }
 ],
 "metadata": {
  "kernelspec": {
   "display_name": "Python 3.8",
   "language": "python",
   "name": "python38"
  },
  "language_info": {
   "codemirror_mode": {
    "name": "ipython",
    "version": 3
   },
   "file_extension": ".py",
   "mimetype": "text/x-python",
   "name": "python",
   "nbconvert_exporter": "python",
   "pygments_lexer": "ipython3",
   "version": "3.8.5"
  }
 },
 "nbformat": 4,
 "nbformat_minor": 4
}
