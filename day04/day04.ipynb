{
 "cells": [
  {
   "cell_type": "code",
   "execution_count": 1,
   "metadata": {},
   "outputs": [],
   "source": [
    "with open(\"input.txt\") as f:\n",
    "    lines = [l.strip() for l in f.readlines()]"
   ]
  },
  {
   "cell_type": "markdown",
   "metadata": {},
   "source": [
    "# part 1"
   ]
  },
  {
   "cell_type": "code",
   "execution_count": 18,
   "metadata": {},
   "outputs": [
    {
     "name": "stdout",
     "output_type": "stream",
     "text": [
      "part 1: 25651\n"
     ]
    }
   ],
   "source": [
    "num_winners = []\n",
    "for line in lines:\n",
    "    _, nums = line.split(\":\")\n",
    "    winning, mine = nums.split(\"|\")\n",
    "\n",
    "    winning_nums = set(int(n) for n in winning.split())\n",
    "    my_nums = set(int(n) for n in mine.split())\n",
    "    my_winners = winning_nums & my_nums\n",
    "    if len(my_winners) > 0:\n",
    "        num_winners += [len(my_winners)]\n",
    "\n",
    "points = sum(\n",
    "    2 ** (num_winner-1) for num_winner in num_winners\n",
    ")\n",
    "print(\"part 1:\", points)"
   ]
  }
 ],
 "metadata": {
  "kernelspec": {
   "display_name": "Python 3.8",
   "language": "python",
   "name": "python38"
  },
  "language_info": {
   "codemirror_mode": {
    "name": "ipython",
    "version": 3
   },
   "file_extension": ".py",
   "mimetype": "text/x-python",
   "name": "python",
   "nbconvert_exporter": "python",
   "pygments_lexer": "ipython3",
   "version": "3.8.5"
  }
 },
 "nbformat": 4,
 "nbformat_minor": 4
}
