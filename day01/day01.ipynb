{
 "cells": [
  {
   "cell_type": "code",
   "execution_count": 1,
   "metadata": {},
   "outputs": [],
   "source": [
    "import re\n",
    "\n",
    "with open(\"input.txt\") as f:\n",
    "    lines = [l.strip() for l in f.readlines()]"
   ]
  },
  {
   "cell_type": "markdown",
   "metadata": {},
   "source": [
    "# part 1"
   ]
  },
  {
   "cell_type": "code",
   "execution_count": 2,
   "metadata": {},
   "outputs": [
    {
     "name": "stdout",
     "output_type": "stream",
     "text": [
      "part 1: 54159\n"
     ]
    }
   ],
   "source": [
    "def first_digit(line: str) -> str:\n",
    "    for c in line:\n",
    "        if c.isdigit():\n",
    "            return c\n",
    "    \n",
    "calibration_values = [\n",
    "    int(first_digit(line) + first_digit(line[::-1]))\n",
    "    for line in lines\n",
    "]\n",
    "\n",
    "print(\"part 1:\", sum(calibration_values))"
   ]
  },
  {
   "cell_type": "markdown",
   "metadata": {},
   "source": [
    "# part 2"
   ]
  },
  {
   "cell_type": "code",
   "execution_count": 3,
   "metadata": {},
   "outputs": [
    {
     "name": "stdout",
     "output_type": "stream",
     "text": [
      "part 2: 53866\n"
     ]
    }
   ],
   "source": [
    "def to_int(val: str) -> int:\n",
    "    int_map = {\n",
    "        \"one\": 1,\n",
    "        \"two\": 2,\n",
    "        \"three\": 3,\n",
    "        \"four\": 4,\n",
    "        \"five\": 5,\n",
    "        \"six\": 6,\n",
    "        \"seven\": 7,\n",
    "        \"eight\": 8,\n",
    "        \"nine\": 9,\n",
    "    }\n",
    "    if val in int_map:\n",
    "        return int_map[val]\n",
    "\n",
    "    return int(val)\n",
    "\n",
    "\n",
    "def get_calibration(line: str) -> int:\n",
    "    matches = [\n",
    "        to_int(match.group(1)) for match in re.finditer(\n",
    "            r\"(?=(\\d|one|two|three|four|five|six|seven|eight|nine))\",\n",
    "            line\n",
    "        )\n",
    "    ]\n",
    "    return 10 * matches[0] + matches[-1]\n",
    "\n",
    "\n",
    "calibration_values = [get_calibration(line) for line in lines]\n",
    "print(\"part 2:\", sum(calibration_values))"
   ]
  }
 ],
 "metadata": {
  "kernelspec": {
   "display_name": "Python 3.8",
   "language": "python",
   "name": "python38"
  },
  "language_info": {
   "codemirror_mode": {
    "name": "ipython",
    "version": 3
   },
   "file_extension": ".py",
   "mimetype": "text/x-python",
   "name": "python",
   "nbconvert_exporter": "python",
   "pygments_lexer": "ipython3",
   "version": "3.8.5"
  }
 },
 "nbformat": 4,
 "nbformat_minor": 4
}
